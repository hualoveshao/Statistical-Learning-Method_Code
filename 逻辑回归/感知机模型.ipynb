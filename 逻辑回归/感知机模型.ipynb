{
 "cells": [
  {
   "cell_type": "code",
   "execution_count": 23,
   "metadata": {},
   "outputs": [],
   "source": [
    "#加载mnist数据集\n",
    "import numpy as np\n",
    "from sklearn.feature_extraction.text import CountVectorizer, TfidfTransformer\n",
    "from sklearn.metrics import accuracy_score,confusion_matrix\n",
    "import pandas as pd\n",
    "from tqdm import tqdm"
   ]
  },
  {
   "cell_type": "code",
   "execution_count": 16,
   "metadata": {},
   "outputs": [],
   "source": [
    "def read_file(file_name):\n",
    "    with open(file_name,'r',encoding='utf-8') as f:\n",
    "        data = f.readlines()\n",
    "    label_map = {}\n",
    "    label_map[\"ham\"] = -1\n",
    "    label_map[\"spam\"] = 1\n",
    "    \n",
    "    \n",
    "    text = list()\n",
    "    label = list()\n",
    "    label_num = list()\n",
    "    for item in data:\n",
    "        item = item.strip()\n",
    "        item = item.split(\" \")\n",
    "        item_len = len(item)\n",
    "        tmp_list = list()\n",
    "        if(item[1] in [\"ham\",\"spam\"]):\n",
    "            label.append(item[1])\n",
    "            label_num.append(label_map[item[1]])\n",
    "            for index in range(2,item_len,2):\n",
    "                tmp_list.append(item[index])\n",
    "        text.append(\" \".join(tmp_list))\n",
    "    return text,label,label_num\n",
    "\n",
    "    "
   ]
  },
  {
   "cell_type": "code",
   "execution_count": 17,
   "metadata": {},
   "outputs": [],
   "source": [
    "train_text,train_label,train_label_num = read_file(\"../data/train\")\n",
    "test_text,test_label,test_label_num = read_file(\"../data/test\")"
   ]
  },
  {
   "cell_type": "code",
   "execution_count": 18,
   "metadata": {},
   "outputs": [
    {
     "data": {
      "text/plain": [
       "'need fw 35 39 thanks thread 40 copy else correlator under companies 25 he 26 168 29 content 1 6 5 4 review we john 17 use 15 20 classes may a back l 01 produced i yes 10 713 v6 p original doc 2001 comments x week to harry 110 smtpsvc has who sender would any jan be index text intended and urn email cc 1600 can re corp fri response 65 plain confidential 853 you mailto anything am our they for info of are on exchange topic information transfer or msmbx01v 4418 questions now them pm mime binary subject tnef nahou version thank encoding contracts me tuesday ena trading just let ms return 0500 attach attached account mimeole but send individual him type 192 2195 sent enron please when contract class here msmbx05v company this call have june currently while if path find with is it error your agreement the in know their energy'"
      ]
     },
     "execution_count": 18,
     "metadata": {},
     "output_type": "execute_result"
    }
   ],
   "source": [
    "train_text[0]"
   ]
  },
  {
   "cell_type": "code",
   "execution_count": 19,
   "metadata": {},
   "outputs": [
    {
     "name": "stdout",
     "output_type": "stream",
     "text": [
      "训练集 (9000, 965)\n",
      "测试集 (1000, 965)\n"
     ]
    }
   ],
   "source": [
    "#提取TF-IDF特征\n",
    "cv = CountVectorizer()\n",
    "part_fit = cv.fit(train_text) # 以部分句子为参考\n",
    "train_all_count = cv.transform(train_text) # 对训练集所有邮件统计单词个数\n",
    "test_all_count = cv.transform(test_text) # 对测试集所有邮件统计单词个数\n",
    "tfidf = TfidfTransformer()\n",
    "train_tfidf_matrix = tfidf.fit_transform(train_all_count)\n",
    "test_tfidf_matrix = tfidf.fit_transform(test_all_count)\n",
    "\n",
    "print('训练集', train_tfidf_matrix.shape)\n",
    "print('测试集', test_tfidf_matrix.shape)"
   ]
  },
  {
   "cell_type": "code",
   "execution_count": 21,
   "metadata": {},
   "outputs": [],
   "source": [
    "#获取w 和 b \n",
    "def get_parameter(x,y,iter_num=50,lr=0.0001):\n",
    "    #初始化w和b\n",
    "    m,n = x.shape[0],x.shape[1]\n",
    "    w = np.zeros((n,1))\n",
    "    b = 0\n",
    "    for i in tqdm(range(iter_num)):\n",
    "        #取每一条数据并判断是否为假的\n",
    "        for index in range(m):\n",
    "            single_x = x[index]\n",
    "            single_x = single_x.reshape((1,n))\n",
    "            single_y = y[index]\n",
    "            \n",
    "            adjust_data = -1*single_y * (single_x.dot(w)+b)\n",
    "            if adjust_data[0]>=0:\n",
    "                t = lr*(single_x*single_y)\n",
    "                t = t.reshape((n,1))\n",
    "                w = w + t\n",
    "                b = b + lr*single_y\n",
    "    return w,b"
   ]
  },
  {
   "cell_type": "code",
   "execution_count": 24,
   "metadata": {
    "scrolled": true
   },
   "outputs": [
    {
     "name": "stderr",
     "output_type": "stream",
     "text": [
      "100%|██████████████████████████████████████████████████████████████████████████████████| 50/50 [02:38<00:00,  3.17s/it]\n"
     ]
    }
   ],
   "source": [
    "w,b = get_parameter(train_tfidf_matrix,train_label_num)"
   ]
  },
  {
   "cell_type": "code",
   "execution_count": 28,
   "metadata": {},
   "outputs": [],
   "source": [
    "#测试数据\n",
    "def test_accuracy(x,y,w,b):\n",
    "    error_num = 0\n",
    "    for index in range(x.shape[0]):\n",
    "        single_x = x[index]\n",
    "        single_y = y[index]\n",
    "        adjust_data = -1*single_y * (single_x.dot(w)+b)\n",
    "        if adjust_data[0]>=0:\n",
    "            error_num += 1\n",
    "    print(\"accuracy: \",1-error_num/x.shape[0])"
   ]
  },
  {
   "cell_type": "code",
   "execution_count": 29,
   "metadata": {},
   "outputs": [
    {
     "name": "stdout",
     "output_type": "stream",
     "text": [
      "accuracy:  0.991\n"
     ]
    }
   ],
   "source": [
    "test_accuracy(test_tfidf_matrix,test_label_num,w,b)"
   ]
  },
  {
   "cell_type": "code",
   "execution_count": null,
   "metadata": {},
   "outputs": [],
   "source": []
  }
 ],
 "metadata": {
  "kernelspec": {
   "display_name": "Python 3",
   "language": "python",
   "name": "python3"
  },
  "language_info": {
   "codemirror_mode": {
    "name": "ipython",
    "version": 3
   },
   "file_extension": ".py",
   "mimetype": "text/x-python",
   "name": "python",
   "nbconvert_exporter": "python",
   "pygments_lexer": "ipython3",
   "version": "3.6.5"
  }
 },
 "nbformat": 4,
 "nbformat_minor": 2
}
